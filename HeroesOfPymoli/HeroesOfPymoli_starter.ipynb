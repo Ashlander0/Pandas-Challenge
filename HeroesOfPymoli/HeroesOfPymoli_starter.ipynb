{
 "cells": [
  {
   "cell_type": "code",
   "execution_count": 1,
   "metadata": {},
   "outputs": [
    {
     "output_type": "execute_result",
     "data": {
      "text/plain": [
       "   Purchase ID             SN  Age Gender  Item ID  \\\n",
       "0            0        Lisim78   20   Male      108   \n",
       "1            1    Lisovynya38   40   Male      143   \n",
       "2            2     Ithergue48   24   Male       92   \n",
       "3            3  Chamassasya86   24   Male      100   \n",
       "4            4      Iskosia90   23   Male      131   \n",
       "\n",
       "                                   Item Name  Price  \n",
       "0  Extraction, Quickblade Of Trembling Hands   3.53  \n",
       "1                          Frenzied Scimitar   1.56  \n",
       "2                               Final Critic   4.88  \n",
       "3                                Blindscythe   3.27  \n",
       "4                                       Fury   1.44  "
      ],
      "text/html": "<div>\n<style scoped>\n    .dataframe tbody tr th:only-of-type {\n        vertical-align: middle;\n    }\n\n    .dataframe tbody tr th {\n        vertical-align: top;\n    }\n\n    .dataframe thead th {\n        text-align: right;\n    }\n</style>\n<table border=\"1\" class=\"dataframe\">\n  <thead>\n    <tr style=\"text-align: right;\">\n      <th></th>\n      <th>Purchase ID</th>\n      <th>SN</th>\n      <th>Age</th>\n      <th>Gender</th>\n      <th>Item ID</th>\n      <th>Item Name</th>\n      <th>Price</th>\n    </tr>\n  </thead>\n  <tbody>\n    <tr>\n      <th>0</th>\n      <td>0</td>\n      <td>Lisim78</td>\n      <td>20</td>\n      <td>Male</td>\n      <td>108</td>\n      <td>Extraction, Quickblade Of Trembling Hands</td>\n      <td>3.53</td>\n    </tr>\n    <tr>\n      <th>1</th>\n      <td>1</td>\n      <td>Lisovynya38</td>\n      <td>40</td>\n      <td>Male</td>\n      <td>143</td>\n      <td>Frenzied Scimitar</td>\n      <td>1.56</td>\n    </tr>\n    <tr>\n      <th>2</th>\n      <td>2</td>\n      <td>Ithergue48</td>\n      <td>24</td>\n      <td>Male</td>\n      <td>92</td>\n      <td>Final Critic</td>\n      <td>4.88</td>\n    </tr>\n    <tr>\n      <th>3</th>\n      <td>3</td>\n      <td>Chamassasya86</td>\n      <td>24</td>\n      <td>Male</td>\n      <td>100</td>\n      <td>Blindscythe</td>\n      <td>3.27</td>\n    </tr>\n    <tr>\n      <th>4</th>\n      <td>4</td>\n      <td>Iskosia90</td>\n      <td>23</td>\n      <td>Male</td>\n      <td>131</td>\n      <td>Fury</td>\n      <td>1.44</td>\n    </tr>\n  </tbody>\n</table>\n</div>"
     },
     "metadata": {},
     "execution_count": 1
    }
   ],
   "source": [
    "# Dependencies and Setup\n",
    "import pandas as pd\n",
    "\n",
    "# File to Load (Remember to Change These)\n",
    "file_to_load = \"Resources/purchase_data.csv\"\n",
    "\n",
    "# Read Purchasing File and store into Pandas data frame\n",
    "data = pd.read_csv(file_to_load)\n",
    "data.head()"
   ]
  },
  {
   "cell_type": "markdown",
   "metadata": {},
   "source": [
    "### Note\n",
    "* Instructions have been included for each segment. You do not have to follow them exactly, but they are included to help you think through the steps."
   ]
  },
  {
   "cell_type": "markdown",
   "metadata": {},
   "source": [
    "## Player Count"
   ]
  },
  {
   "cell_type": "markdown",
   "metadata": {},
   "source": [
    "* Display the total number of players\n"
   ]
  },
  {
   "cell_type": "code",
   "execution_count": 2,
   "metadata": {},
   "outputs": [
    {
     "output_type": "stream",
     "name": "stdout",
     "text": [
      "576\n"
     ]
    }
   ],
   "source": [
    "totalplayers = data.drop_duplicates(subset= \"SN\")\n",
    "\n",
    "#unique players\n",
    "totalpurchases = len(data[\"Purchase ID\"].unique())\n",
    "print(len(totalplayers))\n"
   ]
  },
  {
   "cell_type": "markdown",
   "metadata": {},
   "source": [
    "## Purchasing Analysis (Total)"
   ]
  },
  {
   "cell_type": "markdown",
   "metadata": {},
   "source": [
    "* Run basic calculations to obtain number of unique items, average price, etc.\n",
    "\n",
    "\n",
    "* Create a summary data frame to hold the results\n",
    "\n",
    "\n",
    "* Optional: give the displayed data cleaner formatting\n",
    "\n",
    "\n",
    "* Display the summary data frame\n"
   ]
  },
  {
   "cell_type": "code",
   "execution_count": 3,
   "metadata": {
    "scrolled": true
   },
   "outputs": [
    {
     "output_type": "execute_result",
     "data": {
      "text/plain": [
       "   Unique Items Average Purchase Price  Total Number of Purchases  \\\n",
       "0           179                  $3.05                        780   \n",
       "\n",
       "  Total Revenue  \n",
       "0      $2379.77  "
      ],
      "text/html": "<div>\n<style scoped>\n    .dataframe tbody tr th:only-of-type {\n        vertical-align: middle;\n    }\n\n    .dataframe tbody tr th {\n        vertical-align: top;\n    }\n\n    .dataframe thead th {\n        text-align: right;\n    }\n</style>\n<table border=\"1\" class=\"dataframe\">\n  <thead>\n    <tr style=\"text-align: right;\">\n      <th></th>\n      <th>Unique Items</th>\n      <th>Average Purchase Price</th>\n      <th>Total Number of Purchases</th>\n      <th>Total Revenue</th>\n    </tr>\n  </thead>\n  <tbody>\n    <tr>\n      <th>0</th>\n      <td>179</td>\n      <td>$3.05</td>\n      <td>780</td>\n      <td>$2379.77</td>\n    </tr>\n  </tbody>\n</table>\n</div>"
     },
     "metadata": {},
     "execution_count": 3
    }
   ],
   "source": [
    "unique = data[\"Item Name\"].unique()\n",
    "uniquenum = len(unique)\n",
    "totrev = sum(data[\"Price\"])\n",
    "aveprice = (totrev / totalpurchases)\n",
    "\n",
    "#summary table\n",
    "purchasetable = pd.DataFrame()\n",
    "purchasetable[\"Unique Items\"] = [uniquenum]\n",
    "purchasetable[\"Average Purchase Price\"] = [aveprice]\n",
    "purchasetable[\"Total Number of Purchases\"] = [totalpurchases]\n",
    "purchasetable[\"Total Revenue\"] = [totrev]\n",
    "\n",
    "#formatting\n",
    "purchasetable[\"Average Purchase Price\"] = purchasetable[\"Average Purchase Price\"].map(\"${:.2f}\".format)\n",
    "purchasetable[\"Total Revenue\"] = purchasetable[\"Total Revenue\"].map(\"${:.2f}\".format)\n",
    "\n",
    "purchasetable"
   ]
  },
  {
   "cell_type": "markdown",
   "metadata": {},
   "source": [
    "## Gender Demographics"
   ]
  },
  {
   "cell_type": "markdown",
   "metadata": {},
   "source": [
    "* Percentage and Count of Male Players\n",
    "\n",
    "\n",
    "* Percentage and Count of Female Players\n",
    "\n",
    "\n",
    "* Percentage and Count of Other / Non-Disclosed\n",
    "\n",
    "\n"
   ]
  },
  {
   "cell_type": "code",
   "execution_count": 6,
   "metadata": {},
   "outputs": [
    {
     "output_type": "execute_result",
     "data": {
      "text/plain": [
       "<pandas.io.formats.style.Styler at 0x1487cc2a668>"
      ],
      "text/html": "<style  type=\"text/css\" >\n</style><table id=\"T_5dff0d10_10b8_11eb_b1ba_1856805f3a83\" ><thead>    <tr>        <th class=\"blank level0\" ></th>        <th class=\"col_heading level0 col0\" >Total Count</th>        <th class=\"col_heading level0 col1\" >Percentage of Players</th>    </tr></thead><tbody>\n                <tr>\n                        <th id=\"T_5dff0d10_10b8_11eb_b1ba_1856805f3a83level0_row0\" class=\"row_heading level0 row0\" >Male</th>\n                        <td id=\"T_5dff0d10_10b8_11eb_b1ba_1856805f3a83row0_col0\" class=\"data row0 col0\" >484</td>\n                        <td id=\"T_5dff0d10_10b8_11eb_b1ba_1856805f3a83row0_col1\" class=\"data row0 col1\" >84.03%</td>\n            </tr>\n            <tr>\n                        <th id=\"T_5dff0d10_10b8_11eb_b1ba_1856805f3a83level0_row1\" class=\"row_heading level0 row1\" >Female</th>\n                        <td id=\"T_5dff0d10_10b8_11eb_b1ba_1856805f3a83row1_col0\" class=\"data row1 col0\" >81</td>\n                        <td id=\"T_5dff0d10_10b8_11eb_b1ba_1856805f3a83row1_col1\" class=\"data row1 col1\" >14.06%</td>\n            </tr>\n            <tr>\n                        <th id=\"T_5dff0d10_10b8_11eb_b1ba_1856805f3a83level0_row2\" class=\"row_heading level0 row2\" >Other / Non-Disclosed</th>\n                        <td id=\"T_5dff0d10_10b8_11eb_b1ba_1856805f3a83row2_col0\" class=\"data row2 col0\" >11</td>\n                        <td id=\"T_5dff0d10_10b8_11eb_b1ba_1856805f3a83row2_col1\" class=\"data row2 col1\" >1.91%</td>\n            </tr>\n    </tbody></table>"
     },
     "metadata": {},
     "execution_count": 6
    }
   ],
   "source": [
    "\n",
    "genders = totalplayers[\"Gender\"].value_counts()\n",
    "genderperc = (genders / len(totalplayers))\n",
    "\n",
    "#summary table & formatting\n",
    "gendertable = pd.DataFrame({\"Total Count\": genders, \"Percentage of Players\": genderperc})\n",
    "gendertable.style.format(({\"Percentage of Players\": \"{:.2%}\"}))"
   ]
  },
  {
   "cell_type": "markdown",
   "metadata": {},
   "source": [
    "\n",
    "## Purchasing Analysis (Gender)"
   ]
  },
  {
   "cell_type": "markdown",
   "metadata": {},
   "source": [
    "* Run basic calculations to obtain purchase count, avg. purchase price, avg. purchase total per person etc. by gender\n",
    "\n",
    "\n",
    "\n",
    "\n",
    "* Create a summary data frame to hold the results\n",
    "\n",
    "\n",
    "* Optional: give the displayed data cleaner formatting\n",
    "\n",
    "\n",
    "* Display the summary data frame"
   ]
  },
  {
   "cell_type": "code",
   "execution_count": 7,
   "metadata": {},
   "outputs": [
    {
     "output_type": "execute_result",
     "data": {
      "text/plain": [
       "<pandas.io.formats.style.Styler at 0x1487d1164e0>"
      ],
      "text/html": "<style  type=\"text/css\" >\n</style><table id=\"T_5e042640_10b8_11eb_8f20_1856805f3a83\" ><thead>    <tr>        <th class=\"blank level0\" ></th>        <th class=\"col_heading level0 col0\" >Purchase Count</th>        <th class=\"col_heading level0 col1\" >Average Purchase Price</th>        <th class=\"col_heading level0 col2\" >Total Purchase Value</th>        <th class=\"col_heading level0 col3\" >Average Purchase Total Per Person</th>    </tr>    <tr>        <th class=\"index_name level0\" >Gender</th>        <th class=\"blank\" ></th>        <th class=\"blank\" ></th>        <th class=\"blank\" ></th>        <th class=\"blank\" ></th>    </tr></thead><tbody>\n                <tr>\n                        <th id=\"T_5e042640_10b8_11eb_8f20_1856805f3a83level0_row0\" class=\"row_heading level0 row0\" >Female</th>\n                        <td id=\"T_5e042640_10b8_11eb_8f20_1856805f3a83row0_col0\" class=\"data row0 col0\" >113</td>\n                        <td id=\"T_5e042640_10b8_11eb_8f20_1856805f3a83row0_col1\" class=\"data row0 col1\" >$3.20</td>\n                        <td id=\"T_5e042640_10b8_11eb_8f20_1856805f3a83row0_col2\" class=\"data row0 col2\" >$361.94</td>\n                        <td id=\"T_5e042640_10b8_11eb_8f20_1856805f3a83row0_col3\" class=\"data row0 col3\" >$4.47</td>\n            </tr>\n            <tr>\n                        <th id=\"T_5e042640_10b8_11eb_8f20_1856805f3a83level0_row1\" class=\"row_heading level0 row1\" >Male</th>\n                        <td id=\"T_5e042640_10b8_11eb_8f20_1856805f3a83row1_col0\" class=\"data row1 col0\" >652</td>\n                        <td id=\"T_5e042640_10b8_11eb_8f20_1856805f3a83row1_col1\" class=\"data row1 col1\" >$3.02</td>\n                        <td id=\"T_5e042640_10b8_11eb_8f20_1856805f3a83row1_col2\" class=\"data row1 col2\" >$1967.64</td>\n                        <td id=\"T_5e042640_10b8_11eb_8f20_1856805f3a83row1_col3\" class=\"data row1 col3\" >$4.07</td>\n            </tr>\n            <tr>\n                        <th id=\"T_5e042640_10b8_11eb_8f20_1856805f3a83level0_row2\" class=\"row_heading level0 row2\" >Other / Non-Disclosed</th>\n                        <td id=\"T_5e042640_10b8_11eb_8f20_1856805f3a83row2_col0\" class=\"data row2 col0\" >15</td>\n                        <td id=\"T_5e042640_10b8_11eb_8f20_1856805f3a83row2_col1\" class=\"data row2 col1\" >$3.35</td>\n                        <td id=\"T_5e042640_10b8_11eb_8f20_1856805f3a83row2_col2\" class=\"data row2 col2\" >$50.19</td>\n                        <td id=\"T_5e042640_10b8_11eb_8f20_1856805f3a83row2_col3\" class=\"data row2 col3\" >$4.56</td>\n            </tr>\n    </tbody></table>"
     },
     "metadata": {},
     "execution_count": 7
    }
   ],
   "source": [
    "genpurchasecount = data.groupby(\"Gender\").count()[\"Purchase ID\"]\n",
    "genaverageprice = data.groupby(\"Gender\").mean()[\"Price\"]\n",
    "gentotalvalue = data.groupby(\"Gender\").sum()[\"Price\"]\n",
    "genaverageperson = (gentotalvalue / genders)\n",
    "\n",
    "#Summary table\n",
    "genderpurchasedata = pd.DataFrame({\"Purchase Count\": genpurchasecount, \"Average Purchase Price\": genaverageprice, \"Total Purchase Value\": gentotalvalue, \"Average Purchase Total Per Person\": genaverageperson})\n",
    "genderpurchasedata.style.format(({\"Average Purchase Price\": \"${0:.2f}\", \"Total Purchase Value\": \"${0:.2f}\", \"Average Purchase Total Per Person\": \"${0:.2f}\"}))"
   ]
  },
  {
   "cell_type": "markdown",
   "metadata": {},
   "source": [
    "## Age Demographics"
   ]
  },
  {
   "cell_type": "markdown",
   "metadata": {},
   "source": [
    "* Establish bins for ages\n",
    "\n",
    "\n",
    "* Categorize the existing players using the age bins. Hint: use pd.cut()\n",
    "\n",
    "\n",
    "* Calculate the numbers and percentages by age group\n",
    "\n",
    "\n",
    "* Create a summary data frame to hold the results\n",
    "\n",
    "\n",
    "* Optional: round the percentage column to two decimal points\n",
    "\n",
    "\n",
    "* Display Age Demographics Table\n"
   ]
  },
  {
   "cell_type": "code",
   "execution_count": 8,
   "metadata": {},
   "outputs": [
    {
     "output_type": "execute_result",
     "data": {
      "text/plain": [
       "<pandas.io.formats.style.Styler at 0x1487dce74a8>"
      ],
      "text/html": "<style  type=\"text/css\" >\n</style><table id=\"T_5e097a68_10b8_11eb_988f_1856805f3a83\" ><thead>    <tr>        <th class=\"blank level0\" ></th>        <th class=\"col_heading level0 col0\" >Total Count</th>        <th class=\"col_heading level0 col1\" >Percentage of Players</th>    </tr>    <tr>        <th class=\"index_name level0\" >Age Ranges</th>        <th class=\"blank\" ></th>        <th class=\"blank\" ></th>    </tr></thead><tbody>\n                <tr>\n                        <th id=\"T_5e097a68_10b8_11eb_988f_1856805f3a83level0_row0\" class=\"row_heading level0 row0\" ><10</th>\n                        <td id=\"T_5e097a68_10b8_11eb_988f_1856805f3a83row0_col0\" class=\"data row0 col0\" >17</td>\n                        <td id=\"T_5e097a68_10b8_11eb_988f_1856805f3a83row0_col1\" class=\"data row0 col1\" >2.95%</td>\n            </tr>\n            <tr>\n                        <th id=\"T_5e097a68_10b8_11eb_988f_1856805f3a83level0_row1\" class=\"row_heading level0 row1\" >10-14</th>\n                        <td id=\"T_5e097a68_10b8_11eb_988f_1856805f3a83row1_col0\" class=\"data row1 col0\" >22</td>\n                        <td id=\"T_5e097a68_10b8_11eb_988f_1856805f3a83row1_col1\" class=\"data row1 col1\" >3.82%</td>\n            </tr>\n            <tr>\n                        <th id=\"T_5e097a68_10b8_11eb_988f_1856805f3a83level0_row2\" class=\"row_heading level0 row2\" >15-19</th>\n                        <td id=\"T_5e097a68_10b8_11eb_988f_1856805f3a83row2_col0\" class=\"data row2 col0\" >107</td>\n                        <td id=\"T_5e097a68_10b8_11eb_988f_1856805f3a83row2_col1\" class=\"data row2 col1\" >18.58%</td>\n            </tr>\n            <tr>\n                        <th id=\"T_5e097a68_10b8_11eb_988f_1856805f3a83level0_row3\" class=\"row_heading level0 row3\" >20-24</th>\n                        <td id=\"T_5e097a68_10b8_11eb_988f_1856805f3a83row3_col0\" class=\"data row3 col0\" >258</td>\n                        <td id=\"T_5e097a68_10b8_11eb_988f_1856805f3a83row3_col1\" class=\"data row3 col1\" >44.79%</td>\n            </tr>\n            <tr>\n                        <th id=\"T_5e097a68_10b8_11eb_988f_1856805f3a83level0_row4\" class=\"row_heading level0 row4\" >25-29</th>\n                        <td id=\"T_5e097a68_10b8_11eb_988f_1856805f3a83row4_col0\" class=\"data row4 col0\" >77</td>\n                        <td id=\"T_5e097a68_10b8_11eb_988f_1856805f3a83row4_col1\" class=\"data row4 col1\" >13.37%</td>\n            </tr>\n            <tr>\n                        <th id=\"T_5e097a68_10b8_11eb_988f_1856805f3a83level0_row5\" class=\"row_heading level0 row5\" >30-34</th>\n                        <td id=\"T_5e097a68_10b8_11eb_988f_1856805f3a83row5_col0\" class=\"data row5 col0\" >52</td>\n                        <td id=\"T_5e097a68_10b8_11eb_988f_1856805f3a83row5_col1\" class=\"data row5 col1\" >9.03%</td>\n            </tr>\n            <tr>\n                        <th id=\"T_5e097a68_10b8_11eb_988f_1856805f3a83level0_row6\" class=\"row_heading level0 row6\" >35-39</th>\n                        <td id=\"T_5e097a68_10b8_11eb_988f_1856805f3a83row6_col0\" class=\"data row6 col0\" >31</td>\n                        <td id=\"T_5e097a68_10b8_11eb_988f_1856805f3a83row6_col1\" class=\"data row6 col1\" >5.38%</td>\n            </tr>\n            <tr>\n                        <th id=\"T_5e097a68_10b8_11eb_988f_1856805f3a83level0_row7\" class=\"row_heading level0 row7\" >40+</th>\n                        <td id=\"T_5e097a68_10b8_11eb_988f_1856805f3a83row7_col0\" class=\"data row7 col0\" >12</td>\n                        <td id=\"T_5e097a68_10b8_11eb_988f_1856805f3a83row7_col1\" class=\"data row7 col1\" >2.08%</td>\n            </tr>\n    </tbody></table>"
     },
     "metadata": {},
     "execution_count": 8
    }
   ],
   "source": [
    "agebins = [0, 9, 14, 19, 24, 29, 34, 39, 100]\n",
    "agebinnames = [\"<10\", \"10-14\", \"15-19\",\"20-24\",\"25-29\",\"30-34\",\"35-39\",\"40+\"]\n",
    "\n",
    "#slize by age\n",
    "totalplayers[\"Age Range\"] = pd.cut(totalplayers[\"Age\"], agebins, labels=agebinnames)\n",
    "\n",
    "\n",
    "agerange = totalplayers[\"Age Range\"].value_counts()\n",
    "agepercent = (agerange / len(totalplayers))\n",
    "\n",
    "#Summary table\n",
    "agetable = pd.DataFrame({\"Total Count\": agerange, \"Percentage of Players\": agepercent}).sort_index()\n",
    "agetable.index.name= \"Age Ranges\"\n",
    "agetable.style.format(({\"Percentage of Players\": \"{:.2%}\"}))"
   ]
  },
  {
   "cell_type": "markdown",
   "metadata": {},
   "source": [
    "## Purchasing Analysis (Age)"
   ]
  },
  {
   "cell_type": "markdown",
   "metadata": {},
   "source": [
    "* Bin the purchase_data data frame by age\n",
    "\n",
    "\n",
    "* Run basic calculations to obtain purchase count, avg. purchase price, avg. purchase total per person etc. in the table below\n",
    "\n",
    "\n",
    "* Create a summary data frame to hold the results\n",
    "\n",
    "\n",
    "* Optional: give the displayed data cleaner formatting\n",
    "\n",
    "\n",
    "* Display the summary data frame"
   ]
  },
  {
   "cell_type": "code",
   "execution_count": 9,
   "metadata": {},
   "outputs": [
    {
     "output_type": "execute_result",
     "data": {
      "text/plain": [
       "<pandas.io.formats.style.Styler at 0x1487dce7048>"
      ],
      "text/html": "<style  type=\"text/css\" >\n</style><table id=\"T_5e107a2c_10b8_11eb_a02e_1856805f3a83\" ><thead>    <tr>        <th class=\"blank level0\" ></th>        <th class=\"col_heading level0 col0\" >Purchase Count</th>        <th class=\"col_heading level0 col1\" >Average Purchase Price</th>        <th class=\"col_heading level0 col2\" >Total Purchase Value</th>        <th class=\"col_heading level0 col3\" >Average Purchase Total Per Person</th>    </tr>    <tr>        <th class=\"index_name level0\" >Age Ranges</th>        <th class=\"blank\" ></th>        <th class=\"blank\" ></th>        <th class=\"blank\" ></th>        <th class=\"blank\" ></th>    </tr></thead><tbody>\n                <tr>\n                        <th id=\"T_5e107a2c_10b8_11eb_a02e_1856805f3a83level0_row0\" class=\"row_heading level0 row0\" ><10</th>\n                        <td id=\"T_5e107a2c_10b8_11eb_a02e_1856805f3a83row0_col0\" class=\"data row0 col0\" >23</td>\n                        <td id=\"T_5e107a2c_10b8_11eb_a02e_1856805f3a83row0_col1\" class=\"data row0 col1\" >$3.35</td>\n                        <td id=\"T_5e107a2c_10b8_11eb_a02e_1856805f3a83row0_col2\" class=\"data row0 col2\" >$77.13</td>\n                        <td id=\"T_5e107a2c_10b8_11eb_a02e_1856805f3a83row0_col3\" class=\"data row0 col3\" >$4.54</td>\n            </tr>\n            <tr>\n                        <th id=\"T_5e107a2c_10b8_11eb_a02e_1856805f3a83level0_row1\" class=\"row_heading level0 row1\" >10-14</th>\n                        <td id=\"T_5e107a2c_10b8_11eb_a02e_1856805f3a83row1_col0\" class=\"data row1 col0\" >28</td>\n                        <td id=\"T_5e107a2c_10b8_11eb_a02e_1856805f3a83row1_col1\" class=\"data row1 col1\" >$2.96</td>\n                        <td id=\"T_5e107a2c_10b8_11eb_a02e_1856805f3a83row1_col2\" class=\"data row1 col2\" >$82.78</td>\n                        <td id=\"T_5e107a2c_10b8_11eb_a02e_1856805f3a83row1_col3\" class=\"data row1 col3\" >$3.76</td>\n            </tr>\n            <tr>\n                        <th id=\"T_5e107a2c_10b8_11eb_a02e_1856805f3a83level0_row2\" class=\"row_heading level0 row2\" >15-19</th>\n                        <td id=\"T_5e107a2c_10b8_11eb_a02e_1856805f3a83row2_col0\" class=\"data row2 col0\" >136</td>\n                        <td id=\"T_5e107a2c_10b8_11eb_a02e_1856805f3a83row2_col1\" class=\"data row2 col1\" >$3.04</td>\n                        <td id=\"T_5e107a2c_10b8_11eb_a02e_1856805f3a83row2_col2\" class=\"data row2 col2\" >$412.89</td>\n                        <td id=\"T_5e107a2c_10b8_11eb_a02e_1856805f3a83row2_col3\" class=\"data row2 col3\" >$3.86</td>\n            </tr>\n            <tr>\n                        <th id=\"T_5e107a2c_10b8_11eb_a02e_1856805f3a83level0_row3\" class=\"row_heading level0 row3\" >20-24</th>\n                        <td id=\"T_5e107a2c_10b8_11eb_a02e_1856805f3a83row3_col0\" class=\"data row3 col0\" >365</td>\n                        <td id=\"T_5e107a2c_10b8_11eb_a02e_1856805f3a83row3_col1\" class=\"data row3 col1\" >$3.05</td>\n                        <td id=\"T_5e107a2c_10b8_11eb_a02e_1856805f3a83row3_col2\" class=\"data row3 col2\" >$1114.06</td>\n                        <td id=\"T_5e107a2c_10b8_11eb_a02e_1856805f3a83row3_col3\" class=\"data row3 col3\" >$4.32</td>\n            </tr>\n            <tr>\n                        <th id=\"T_5e107a2c_10b8_11eb_a02e_1856805f3a83level0_row4\" class=\"row_heading level0 row4\" >25-29</th>\n                        <td id=\"T_5e107a2c_10b8_11eb_a02e_1856805f3a83row4_col0\" class=\"data row4 col0\" >101</td>\n                        <td id=\"T_5e107a2c_10b8_11eb_a02e_1856805f3a83row4_col1\" class=\"data row4 col1\" >$2.90</td>\n                        <td id=\"T_5e107a2c_10b8_11eb_a02e_1856805f3a83row4_col2\" class=\"data row4 col2\" >$293.00</td>\n                        <td id=\"T_5e107a2c_10b8_11eb_a02e_1856805f3a83row4_col3\" class=\"data row4 col3\" >$3.81</td>\n            </tr>\n            <tr>\n                        <th id=\"T_5e107a2c_10b8_11eb_a02e_1856805f3a83level0_row5\" class=\"row_heading level0 row5\" >30-34</th>\n                        <td id=\"T_5e107a2c_10b8_11eb_a02e_1856805f3a83row5_col0\" class=\"data row5 col0\" >73</td>\n                        <td id=\"T_5e107a2c_10b8_11eb_a02e_1856805f3a83row5_col1\" class=\"data row5 col1\" >$2.93</td>\n                        <td id=\"T_5e107a2c_10b8_11eb_a02e_1856805f3a83row5_col2\" class=\"data row5 col2\" >$214.00</td>\n                        <td id=\"T_5e107a2c_10b8_11eb_a02e_1856805f3a83row5_col3\" class=\"data row5 col3\" >$4.12</td>\n            </tr>\n            <tr>\n                        <th id=\"T_5e107a2c_10b8_11eb_a02e_1856805f3a83level0_row6\" class=\"row_heading level0 row6\" >35-39</th>\n                        <td id=\"T_5e107a2c_10b8_11eb_a02e_1856805f3a83row6_col0\" class=\"data row6 col0\" >41</td>\n                        <td id=\"T_5e107a2c_10b8_11eb_a02e_1856805f3a83row6_col1\" class=\"data row6 col1\" >$3.60</td>\n                        <td id=\"T_5e107a2c_10b8_11eb_a02e_1856805f3a83row6_col2\" class=\"data row6 col2\" >$147.67</td>\n                        <td id=\"T_5e107a2c_10b8_11eb_a02e_1856805f3a83row6_col3\" class=\"data row6 col3\" >$4.76</td>\n            </tr>\n            <tr>\n                        <th id=\"T_5e107a2c_10b8_11eb_a02e_1856805f3a83level0_row7\" class=\"row_heading level0 row7\" >40+</th>\n                        <td id=\"T_5e107a2c_10b8_11eb_a02e_1856805f3a83row7_col0\" class=\"data row7 col0\" >13</td>\n                        <td id=\"T_5e107a2c_10b8_11eb_a02e_1856805f3a83row7_col1\" class=\"data row7 col1\" >$2.94</td>\n                        <td id=\"T_5e107a2c_10b8_11eb_a02e_1856805f3a83row7_col2\" class=\"data row7 col2\" >$38.24</td>\n                        <td id=\"T_5e107a2c_10b8_11eb_a02e_1856805f3a83row7_col3\" class=\"data row7 col3\" >$3.19</td>\n            </tr>\n    </tbody></table>"
     },
     "metadata": {},
     "execution_count": 9
    }
   ],
   "source": [
    "#slice by age\n",
    "data[\"Age Range\"] = pd.cut(data[\"Age\"], agebins, labels=agebinnames)\n",
    "\n",
    "agepurchasecount = data.groupby(\"Age Range\").count()[\"Purchase ID\"]\n",
    "ageaverageprice = data.groupby(\"Age Range\").mean()[\"Price\"]\n",
    "agetotalvalue = data.groupby(\"Age Range\").sum()[\"Price\"]\n",
    "ageaverageperson = (agetotalvalue / agerange)\n",
    "\n",
    "#summary table\n",
    "agepurchasedata = pd.DataFrame({\"Purchase Count\": agepurchasecount, \"Average Purchase Price\": ageaverageprice, \"Total Purchase Value\": agetotalvalue, \"Average Purchase Total Per Person\": ageaverageperson}).sort_index()\n",
    "\n",
    "#formatting\n",
    "agepurchasedata.index.name= \"Age Ranges\"\n",
    "agepurchasedata.style.format(({\"Average Purchase Price\": \"${0:.2f}\", \"Total Purchase Value\": \"${0:.2f}\", \"Average Purchase Total Per Person\": \"${0:.2f}\"}))"
   ]
  },
  {
   "cell_type": "markdown",
   "metadata": {},
   "source": [
    "## Top Spenders"
   ]
  },
  {
   "cell_type": "markdown",
   "metadata": {},
   "source": [
    "* Run basic calculations to obtain the results in the table below\n",
    "\n",
    "\n",
    "* Create a summary data frame to hold the results\n",
    "\n",
    "\n",
    "* Sort the total purchase value column in descending order\n",
    "\n",
    "\n",
    "* Optional: give the displayed data cleaner formatting\n",
    "\n",
    "\n",
    "* Display a preview of the summary data frame\n",
    "\n"
   ]
  },
  {
   "cell_type": "code",
   "execution_count": 10,
   "metadata": {},
   "outputs": [
    {
     "output_type": "execute_result",
     "data": {
      "text/plain": [
       "<pandas.io.formats.style.Styler at 0x1487dcf5438>"
      ],
      "text/html": "<style  type=\"text/css\" >\n</style><table id=\"T_5e15a7cc_10b8_11eb_ac05_1856805f3a83\" ><thead>    <tr>        <th class=\"blank level0\" ></th>        <th class=\"col_heading level0 col0\" >Purchase Count</th>        <th class=\"col_heading level0 col1\" >Average Purchase Price</th>        <th class=\"col_heading level0 col2\" >Total Purchase Value</th>    </tr>    <tr>        <th class=\"index_name level0\" >SN</th>        <th class=\"blank\" ></th>        <th class=\"blank\" ></th>        <th class=\"blank\" ></th>    </tr></thead><tbody>\n                <tr>\n                        <th id=\"T_5e15a7cc_10b8_11eb_ac05_1856805f3a83level0_row0\" class=\"row_heading level0 row0\" >Lisosia93</th>\n                        <td id=\"T_5e15a7cc_10b8_11eb_ac05_1856805f3a83row0_col0\" class=\"data row0 col0\" >5</td>\n                        <td id=\"T_5e15a7cc_10b8_11eb_ac05_1856805f3a83row0_col1\" class=\"data row0 col1\" >$3.79</td>\n                        <td id=\"T_5e15a7cc_10b8_11eb_ac05_1856805f3a83row0_col2\" class=\"data row0 col2\" >$18.96</td>\n            </tr>\n            <tr>\n                        <th id=\"T_5e15a7cc_10b8_11eb_ac05_1856805f3a83level0_row1\" class=\"row_heading level0 row1\" >Idastidru52</th>\n                        <td id=\"T_5e15a7cc_10b8_11eb_ac05_1856805f3a83row1_col0\" class=\"data row1 col0\" >4</td>\n                        <td id=\"T_5e15a7cc_10b8_11eb_ac05_1856805f3a83row1_col1\" class=\"data row1 col1\" >$3.86</td>\n                        <td id=\"T_5e15a7cc_10b8_11eb_ac05_1856805f3a83row1_col2\" class=\"data row1 col2\" >$15.45</td>\n            </tr>\n            <tr>\n                        <th id=\"T_5e15a7cc_10b8_11eb_ac05_1856805f3a83level0_row2\" class=\"row_heading level0 row2\" >Chamjask73</th>\n                        <td id=\"T_5e15a7cc_10b8_11eb_ac05_1856805f3a83row2_col0\" class=\"data row2 col0\" >3</td>\n                        <td id=\"T_5e15a7cc_10b8_11eb_ac05_1856805f3a83row2_col1\" class=\"data row2 col1\" >$4.61</td>\n                        <td id=\"T_5e15a7cc_10b8_11eb_ac05_1856805f3a83row2_col2\" class=\"data row2 col2\" >$13.83</td>\n            </tr>\n            <tr>\n                        <th id=\"T_5e15a7cc_10b8_11eb_ac05_1856805f3a83level0_row3\" class=\"row_heading level0 row3\" >Iral74</th>\n                        <td id=\"T_5e15a7cc_10b8_11eb_ac05_1856805f3a83row3_col0\" class=\"data row3 col0\" >4</td>\n                        <td id=\"T_5e15a7cc_10b8_11eb_ac05_1856805f3a83row3_col1\" class=\"data row3 col1\" >$3.40</td>\n                        <td id=\"T_5e15a7cc_10b8_11eb_ac05_1856805f3a83row3_col2\" class=\"data row3 col2\" >$13.62</td>\n            </tr>\n            <tr>\n                        <th id=\"T_5e15a7cc_10b8_11eb_ac05_1856805f3a83level0_row4\" class=\"row_heading level0 row4\" >Iskadarya95</th>\n                        <td id=\"T_5e15a7cc_10b8_11eb_ac05_1856805f3a83row4_col0\" class=\"data row4 col0\" >3</td>\n                        <td id=\"T_5e15a7cc_10b8_11eb_ac05_1856805f3a83row4_col1\" class=\"data row4 col1\" >$4.37</td>\n                        <td id=\"T_5e15a7cc_10b8_11eb_ac05_1856805f3a83row4_col2\" class=\"data row4 col2\" >$13.10</td>\n            </tr>\n    </tbody></table>"
     },
     "metadata": {},
     "execution_count": 10
    }
   ],
   "source": [
    "topsn = data.groupby(\"SN\")\n",
    "purchasecount = data.groupby(\"SN\").count()[\"Price\"]\n",
    "topaverageprice = data.groupby(\"SN\").mean()[\"Price\"]\n",
    "topspendprice = data.groupby(\"SN\").sum()[\"Price\"]\n",
    "\n",
    "#Summary table\n",
    "topspendertable = pd.DataFrame({\"Purchase Count\": purchasecount, \"Average Purchase Price\": topaverageprice, \"Total Purchase Value\": topspendprice}).sort_values(by=[\"Total Purchase Value\"], ascending=False)\n",
    "\n",
    "#Formatting\n",
    "topspendertable.head(5).style.format(({\"Average Purchase Price\": \"${0:.2f}\", \"Total Purchase Value\": \"${0:.2f}\"}))"
   ]
  },
  {
   "cell_type": "markdown",
   "metadata": {},
   "source": [
    "## Most Popular Items"
   ]
  },
  {
   "cell_type": "markdown",
   "metadata": {},
   "source": [
    "* Retrieve the Item ID, Item Name, and Item Price columns\n",
    "\n",
    "\n",
    "* Group by Item ID and Item Name. Perform calculations to obtain purchase count, average item price, and total purchase value\n",
    "\n",
    "\n",
    "* Create a summary data frame to hold the results\n",
    "\n",
    "\n",
    "* Sort the purchase count column in descending order\n",
    "\n",
    "\n",
    "* Optional: give the displayed data cleaner formatting\n",
    "\n",
    "\n",
    "\n",
    "* Display a preview of the summary data frame\n",
    "\n"
   ]
  },
  {
   "cell_type": "code",
   "execution_count": 11,
   "metadata": {},
   "outputs": [
    {
     "output_type": "execute_result",
     "data": {
      "text/plain": [
       "<pandas.io.formats.style.Styler at 0x1487dd2b278>"
      ],
      "text/html": "<style  type=\"text/css\" >\n</style><table id=\"T_5e1a5e24_10b8_11eb_ae15_1856805f3a83\" ><thead>    <tr>        <th class=\"blank level0\" ></th>        <th class=\"col_heading level0 col0\" >Item Name</th>        <th class=\"col_heading level0 col1\" >Purchase Count</th>        <th class=\"col_heading level0 col2\" >Item Price</th>        <th class=\"col_heading level0 col3\" >Total Purchase Value</th>        <th class=\"col_heading level0 col4\" >Item ID</th>    </tr>    <tr>        <th class=\"index_name level0\" >Item ID</th>        <th class=\"blank\" ></th>        <th class=\"blank\" ></th>        <th class=\"blank\" ></th>        <th class=\"blank\" ></th>        <th class=\"blank\" ></th>    </tr></thead><tbody>\n                <tr>\n                        <th id=\"T_5e1a5e24_10b8_11eb_ae15_1856805f3a83level0_row0\" class=\"row_heading level0 row0\" >92</th>\n                        <td id=\"T_5e1a5e24_10b8_11eb_ae15_1856805f3a83row0_col0\" class=\"data row0 col0\" >Betrayal, Whisper of Grieving Widows</td>\n                        <td id=\"T_5e1a5e24_10b8_11eb_ae15_1856805f3a83row0_col1\" class=\"data row0 col1\" >13</td>\n                        <td id=\"T_5e1a5e24_10b8_11eb_ae15_1856805f3a83row0_col2\" class=\"data row0 col2\" >$3.94</td>\n                        <td id=\"T_5e1a5e24_10b8_11eb_ae15_1856805f3a83row0_col3\" class=\"data row0 col3\" >$59.99</td>\n                        <td id=\"T_5e1a5e24_10b8_11eb_ae15_1856805f3a83row0_col4\" class=\"data row0 col4\" >39</td>\n            </tr>\n            <tr>\n                        <th id=\"T_5e1a5e24_10b8_11eb_ae15_1856805f3a83level0_row1\" class=\"row_heading level0 row1\" >178</th>\n                        <td id=\"T_5e1a5e24_10b8_11eb_ae15_1856805f3a83row1_col0\" class=\"data row1 col0\" >Despair, Favor of Due Diligence</td>\n                        <td id=\"T_5e1a5e24_10b8_11eb_ae15_1856805f3a83row1_col1\" class=\"data row1 col1\" >12</td>\n                        <td id=\"T_5e1a5e24_10b8_11eb_ae15_1856805f3a83row1_col2\" class=\"data row1 col2\" >$4.60</td>\n                        <td id=\"T_5e1a5e24_10b8_11eb_ae15_1856805f3a83row1_col3\" class=\"data row1 col3\" >$50.76</td>\n                        <td id=\"T_5e1a5e24_10b8_11eb_ae15_1856805f3a83row1_col4\" class=\"data row1 col4\" >57</td>\n            </tr>\n            <tr>\n                        <th id=\"T_5e1a5e24_10b8_11eb_ae15_1856805f3a83level0_row2\" class=\"row_heading level0 row2\" >145</th>\n                        <td id=\"T_5e1a5e24_10b8_11eb_ae15_1856805f3a83row2_col0\" class=\"data row2 col0\" >Hopeless Ebon Dualblade</td>\n                        <td id=\"T_5e1a5e24_10b8_11eb_ae15_1856805f3a83row2_col1\" class=\"data row2 col1\" >9</td>\n                        <td id=\"T_5e1a5e24_10b8_11eb_ae15_1856805f3a83row2_col2\" class=\"data row2 col2\" >$1.33</td>\n                        <td id=\"T_5e1a5e24_10b8_11eb_ae15_1856805f3a83row2_col3\" class=\"data row2 col3\" >$41.22</td>\n                        <td id=\"T_5e1a5e24_10b8_11eb_ae15_1856805f3a83row2_col4\" class=\"data row2 col4\" >46</td>\n            </tr>\n            <tr>\n                        <th id=\"T_5e1a5e24_10b8_11eb_ae15_1856805f3a83level0_row3\" class=\"row_heading level0 row3\" >132</th>\n                        <td id=\"T_5e1a5e24_10b8_11eb_ae15_1856805f3a83row3_col0\" class=\"data row3 col0\" >Fiery Glass Crusader</td>\n                        <td id=\"T_5e1a5e24_10b8_11eb_ae15_1856805f3a83row3_col1\" class=\"data row3 col1\" >9</td>\n                        <td id=\"T_5e1a5e24_10b8_11eb_ae15_1856805f3a83row3_col2\" class=\"data row3 col2\" >$4.58</td>\n                        <td id=\"T_5e1a5e24_10b8_11eb_ae15_1856805f3a83row3_col3\" class=\"data row3 col3\" >$28.99</td>\n                        <td id=\"T_5e1a5e24_10b8_11eb_ae15_1856805f3a83row3_col4\" class=\"data row3 col4\" >145</td>\n            </tr>\n            <tr>\n                        <th id=\"T_5e1a5e24_10b8_11eb_ae15_1856805f3a83level0_row4\" class=\"row_heading level0 row4\" >108</th>\n                        <td id=\"T_5e1a5e24_10b8_11eb_ae15_1856805f3a83row4_col0\" class=\"data row4 col0\" >Malificent Bag</td>\n                        <td id=\"T_5e1a5e24_10b8_11eb_ae15_1856805f3a83row4_col1\" class=\"data row4 col1\" >9</td>\n                        <td id=\"T_5e1a5e24_10b8_11eb_ae15_1856805f3a83row4_col2\" class=\"data row4 col2\" >$1.75</td>\n                        <td id=\"T_5e1a5e24_10b8_11eb_ae15_1856805f3a83row4_col3\" class=\"data row4 col3\" >$31.77</td>\n                        <td id=\"T_5e1a5e24_10b8_11eb_ae15_1856805f3a83row4_col4\" class=\"data row4 col4\" >85</td>\n            </tr>\n    </tbody></table>"
     },
     "metadata": {},
     "execution_count": 11
    }
   ],
   "source": [
    "#table column variables\n",
    "itemcount = data.groupby(\"Item ID\").count()[\"Purchase ID\"]\n",
    "itemname = data[\"Item Name\"]\n",
    "itemprice = data[\"Price\"]\n",
    "itemid = data[\"Item ID\"]\n",
    "totalitemvalue = data.groupby(\"Item ID\").sum()[\"Price\"]\n",
    "\n",
    "#summary table\n",
    "popitemtable = pd.DataFrame({\"Item Name\": itemname, \"Purchase Count\": itemcount, \"Item Price\": itemprice, \"Total Purchase Value\": totalitemvalue, \"Item ID\": itemid}).sort_values(by=[\"Purchase Count\"], ascending=False)\n",
    "\n",
    "#formatting\n",
    "popitemtable.index.name= \"Item ID\"\n",
    "popitemtable.head(5).style.format(({\"Item Price\": \"${0:.2f}\", \"Purchase Count\": \"{0:.0f}\", \"Total Purchase Value\": \"${0:.2f}\"}))"
   ]
  },
  {
   "cell_type": "markdown",
   "metadata": {},
   "source": [
    "## Most Profitable Items"
   ]
  },
  {
   "cell_type": "markdown",
   "metadata": {},
   "source": [
    "* Sort the above table by total purchase value in descending order\n",
    "\n",
    "\n",
    "* Optional: give the displayed data cleaner formatting\n",
    "\n",
    "\n",
    "* Display a preview of the data frame\n",
    "\n"
   ]
  },
  {
   "cell_type": "code",
   "execution_count": 12,
   "metadata": {
    "scrolled": true
   },
   "outputs": [
    {
     "output_type": "execute_result",
     "data": {
      "text/plain": [
       "<pandas.io.formats.style.Styler at 0x1487dcf5550>"
      ],
      "text/html": "<style  type=\"text/css\" >\n</style><table id=\"T_5e1f3cca_10b8_11eb_b42e_1856805f3a83\" ><thead>    <tr>        <th class=\"blank level0\" ></th>        <th class=\"col_heading level0 col0\" >Item Name</th>        <th class=\"col_heading level0 col1\" >Purchase Count</th>        <th class=\"col_heading level0 col2\" >Item Price</th>        <th class=\"col_heading level0 col3\" >Total Purchase Value</th>    </tr>    <tr>        <th class=\"index_name level0\" >Item ID</th>        <th class=\"blank\" ></th>        <th class=\"blank\" ></th>        <th class=\"blank\" ></th>        <th class=\"blank\" ></th>    </tr></thead><tbody>\n                <tr>\n                        <th id=\"T_5e1f3cca_10b8_11eb_b42e_1856805f3a83level0_row0\" class=\"row_heading level0 row0\" >92</th>\n                        <td id=\"T_5e1f3cca_10b8_11eb_b42e_1856805f3a83row0_col0\" class=\"data row0 col0\" >Betrayal, Whisper of Grieving Widows</td>\n                        <td id=\"T_5e1f3cca_10b8_11eb_b42e_1856805f3a83row0_col1\" class=\"data row0 col1\" >13</td>\n                        <td id=\"T_5e1f3cca_10b8_11eb_b42e_1856805f3a83row0_col2\" class=\"data row0 col2\" >$3.94</td>\n                        <td id=\"T_5e1f3cca_10b8_11eb_b42e_1856805f3a83row0_col3\" class=\"data row0 col3\" >$59.99</td>\n            </tr>\n            <tr>\n                        <th id=\"T_5e1f3cca_10b8_11eb_b42e_1856805f3a83level0_row1\" class=\"row_heading level0 row1\" >178</th>\n                        <td id=\"T_5e1f3cca_10b8_11eb_b42e_1856805f3a83row1_col0\" class=\"data row1 col0\" >Despair, Favor of Due Diligence</td>\n                        <td id=\"T_5e1f3cca_10b8_11eb_b42e_1856805f3a83row1_col1\" class=\"data row1 col1\" >12</td>\n                        <td id=\"T_5e1f3cca_10b8_11eb_b42e_1856805f3a83row1_col2\" class=\"data row1 col2\" >$4.60</td>\n                        <td id=\"T_5e1f3cca_10b8_11eb_b42e_1856805f3a83row1_col3\" class=\"data row1 col3\" >$50.76</td>\n            </tr>\n            <tr>\n                        <th id=\"T_5e1f3cca_10b8_11eb_b42e_1856805f3a83level0_row2\" class=\"row_heading level0 row2\" >82</th>\n                        <td id=\"T_5e1f3cca_10b8_11eb_b42e_1856805f3a83row2_col0\" class=\"data row2 col0\" >Azurewrath</td>\n                        <td id=\"T_5e1f3cca_10b8_11eb_b42e_1856805f3a83row2_col1\" class=\"data row2 col1\" >9</td>\n                        <td id=\"T_5e1f3cca_10b8_11eb_b42e_1856805f3a83row2_col2\" class=\"data row2 col2\" >$4.40</td>\n                        <td id=\"T_5e1f3cca_10b8_11eb_b42e_1856805f3a83row2_col3\" class=\"data row2 col3\" >$44.10</td>\n            </tr>\n            <tr>\n                        <th id=\"T_5e1f3cca_10b8_11eb_b42e_1856805f3a83level0_row3\" class=\"row_heading level0 row3\" >145</th>\n                        <td id=\"T_5e1f3cca_10b8_11eb_b42e_1856805f3a83row3_col0\" class=\"data row3 col0\" >Hopeless Ebon Dualblade</td>\n                        <td id=\"T_5e1f3cca_10b8_11eb_b42e_1856805f3a83row3_col1\" class=\"data row3 col1\" >9</td>\n                        <td id=\"T_5e1f3cca_10b8_11eb_b42e_1856805f3a83row3_col2\" class=\"data row3 col2\" >$1.33</td>\n                        <td id=\"T_5e1f3cca_10b8_11eb_b42e_1856805f3a83row3_col3\" class=\"data row3 col3\" >$41.22</td>\n            </tr>\n            <tr>\n                        <th id=\"T_5e1f3cca_10b8_11eb_b42e_1856805f3a83level0_row4\" class=\"row_heading level0 row4\" >103</th>\n                        <td id=\"T_5e1f3cca_10b8_11eb_b42e_1856805f3a83row4_col0\" class=\"data row4 col0\" >Thorn, Satchel of Dark Souls</td>\n                        <td id=\"T_5e1f3cca_10b8_11eb_b42e_1856805f3a83row4_col1\" class=\"data row4 col1\" >8</td>\n                        <td id=\"T_5e1f3cca_10b8_11eb_b42e_1856805f3a83row4_col2\" class=\"data row4 col2\" >$1.33</td>\n                        <td id=\"T_5e1f3cca_10b8_11eb_b42e_1856805f3a83row4_col3\" class=\"data row4 col3\" >$34.80</td>\n            </tr>\n    </tbody></table>"
     },
     "metadata": {},
     "execution_count": 12
    }
   ],
   "source": [
    "#table column variables\n",
    "itemcount = data.groupby(\"Item ID\").count()[\"Purchase ID\"]\n",
    "itemname = data[\"Item Name\"]\n",
    "itemprice = data[\"Price\"]\n",
    "totalitemvalue = data.groupby(\"Item ID\").sum()[\"Price\"]\n",
    "\n",
    "#summary table\n",
    "popitemtable = pd.DataFrame({\"Item Name\": itemname, \"Purchase Count\": itemcount, \"Item Price\": itemprice, \"Total Purchase Value\": totalitemvalue}).sort_values(by=[\"Total Purchase Value\"], ascending=False)\n",
    "\n",
    "#Formatting\n",
    "popitemtable.index.name= \"Item ID\"\n",
    "popitemtable.head(5).style.format(({\"Item Price\": \"${0:.2f}\", \"Purchase Count\": \"{0:.0f}\", \"Total Purchase Value\": \"${0:.2f}\"}))"
   ]
  },
  {
   "cell_type": "code",
   "execution_count": null,
   "metadata": {},
   "outputs": [],
   "source": []
  }
 ],
 "metadata": {
  "anaconda-cloud": {},
  "kernel_info": {
   "name": "python3"
  },
  "kernelspec": {
   "name": "Python 3.6.10 64-bit ('PythonData': conda)",
   "display_name": "Python 3.6.10 64-bit ('PythonData': conda)",
   "metadata": {
    "interpreter": {
     "hash": "5057b7eef5ef6178ba0df79a20bb385a33fde4771b1ac03d2b482b12ce503196"
    }
   }
  },
  "language_info": {
   "codemirror_mode": {
    "name": "ipython",
    "version": 3
   },
   "file_extension": ".py",
   "mimetype": "text/x-python",
   "name": "python",
   "nbconvert_exporter": "python",
   "pygments_lexer": "ipython3",
   "version": "3.6.10-final"
  },
  "latex_envs": {
   "LaTeX_envs_menu_present": true,
   "autoclose": false,
   "autocomplete": true,
   "bibliofile": "biblio.bib",
   "cite_by": "apalike",
   "current_citInitial": 1,
   "eqLabelWithNumbers": true,
   "eqNumInitial": 1,
   "hotkeys": {
    "equation": "Ctrl-E",
    "itemize": "Ctrl-I"
   },
   "labels_anchors": false,
   "latex_user_defs": false,
   "report_style_numbering": false,
   "user_envs_cfg": false
  },
  "nteract": {
   "version": "0.2.0"
  }
 },
 "nbformat": 4,
 "nbformat_minor": 2
}